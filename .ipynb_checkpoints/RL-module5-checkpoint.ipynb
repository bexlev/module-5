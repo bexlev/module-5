{
 "cells": [
  {
   "cell_type": "markdown",
   "id": "7ea4c245-53e7-4243-9cd7-22a87092cc74",
   "metadata": {},
   "source": [
    "# Place Analysis Here"
   ]
  },
  {
   "cell_type": "code",
   "execution_count": 2,
   "id": "b14ef2b2-acde-4bac-b4f2-4e04424c4536",
   "metadata": {},
   "outputs": [],
   "source": [
    "#Out of all the drug regimens, in the first quantitative analysis, it is shown that \n",
    "#Ramicane has the lowest mean tumor volume, while Ketapril has the highest. \n",
    "\n",
    "#Ramicane had one of the lowest final \n",
    "#tumor volumes as well according to the box plot generated below, which further supports it as a regimen. \n",
    "#Additionally, it had one of the highest numbers of numbers of mice included. \n",
    "#Capomulin follows these two trends as well, making it an additional drug of interest out of this list. \n",
    "\n",
    "#According to this as well as additional supporting details below, Ramicane and Capomulin both appear to be\n",
    "#candidates for further research and development support."
   ]
  },
  {
   "cell_type": "markdown",
   "id": "0d23f507-78b0-4de1-b0b3-790a5b850f52",
   "metadata": {},
   "source": [
    "# Collecting and Processing Data"
   ]
  },
  {
   "cell_type": "code",
   "execution_count": 3,
   "id": "420d83ce-91bb-48d6-91ae-b16d94dc8d6c",
   "metadata": {},
   "outputs": [],
   "source": [
    "#%matplotlib notebook\n",
    "\n",
    "# Dependencies and Setup\n",
    "import matplotlib.pyplot as plt\n",
    "import pandas as pd\n",
    "import scipy.stats as st\n",
    "from scipy.stats import linregress\n",
    "import numpy as np\n",
    "\n",
    "# Study data files\n",
    "mouse_metadata_path = \"data/Mouse_metadata.csv\"\n",
    "study_results_path = \"data/Study_results.csv\"\n",
    "\n",
    "# Read the mouse data and the study results\n",
    "mouse_metadata = pd.read_csv(mouse_metadata_path)\n",
    "study_results = pd.read_csv(study_results_path)\n"
   ]
  },
  {
   "cell_type": "code",
   "execution_count": 4,
   "id": "3bcf9a60-632b-48ab-9cc3-46608f041434",
   "metadata": {},
   "outputs": [
    {
     "data": {
      "text/html": [
       "<div>\n",
       "<style scoped>\n",
       "    .dataframe tbody tr th:only-of-type {\n",
       "        vertical-align: middle;\n",
       "    }\n",
       "\n",
       "    .dataframe tbody tr th {\n",
       "        vertical-align: top;\n",
       "    }\n",
       "\n",
       "    .dataframe thead th {\n",
       "        text-align: right;\n",
       "    }\n",
       "</style>\n",
       "<table border=\"1\" class=\"dataframe\">\n",
       "  <thead>\n",
       "    <tr style=\"text-align: right;\">\n",
       "      <th></th>\n",
       "      <th>Mouse ID</th>\n",
       "      <th>Drug Regimen</th>\n",
       "      <th>Sex</th>\n",
       "      <th>Age_months</th>\n",
       "      <th>Weight (g)</th>\n",
       "      <th>Timepoint</th>\n",
       "      <th>Tumor Volume (mm3)</th>\n",
       "      <th>Metastatic Sites</th>\n",
       "    </tr>\n",
       "  </thead>\n",
       "  <tbody>\n",
       "    <tr>\n",
       "      <th>0</th>\n",
       "      <td>k403</td>\n",
       "      <td>Ramicane</td>\n",
       "      <td>Male</td>\n",
       "      <td>21</td>\n",
       "      <td>16</td>\n",
       "      <td>0</td>\n",
       "      <td>45.000000</td>\n",
       "      <td>0</td>\n",
       "    </tr>\n",
       "    <tr>\n",
       "      <th>1</th>\n",
       "      <td>k403</td>\n",
       "      <td>Ramicane</td>\n",
       "      <td>Male</td>\n",
       "      <td>21</td>\n",
       "      <td>16</td>\n",
       "      <td>5</td>\n",
       "      <td>38.825898</td>\n",
       "      <td>0</td>\n",
       "    </tr>\n",
       "    <tr>\n",
       "      <th>2</th>\n",
       "      <td>k403</td>\n",
       "      <td>Ramicane</td>\n",
       "      <td>Male</td>\n",
       "      <td>21</td>\n",
       "      <td>16</td>\n",
       "      <td>10</td>\n",
       "      <td>35.014271</td>\n",
       "      <td>1</td>\n",
       "    </tr>\n",
       "    <tr>\n",
       "      <th>3</th>\n",
       "      <td>k403</td>\n",
       "      <td>Ramicane</td>\n",
       "      <td>Male</td>\n",
       "      <td>21</td>\n",
       "      <td>16</td>\n",
       "      <td>15</td>\n",
       "      <td>34.223992</td>\n",
       "      <td>1</td>\n",
       "    </tr>\n",
       "    <tr>\n",
       "      <th>4</th>\n",
       "      <td>k403</td>\n",
       "      <td>Ramicane</td>\n",
       "      <td>Male</td>\n",
       "      <td>21</td>\n",
       "      <td>16</td>\n",
       "      <td>20</td>\n",
       "      <td>32.997729</td>\n",
       "      <td>1</td>\n",
       "    </tr>\n",
       "    <tr>\n",
       "      <th>5</th>\n",
       "      <td>k403</td>\n",
       "      <td>Ramicane</td>\n",
       "      <td>Male</td>\n",
       "      <td>21</td>\n",
       "      <td>16</td>\n",
       "      <td>25</td>\n",
       "      <td>33.464577</td>\n",
       "      <td>1</td>\n",
       "    </tr>\n",
       "    <tr>\n",
       "      <th>6</th>\n",
       "      <td>k403</td>\n",
       "      <td>Ramicane</td>\n",
       "      <td>Male</td>\n",
       "      <td>21</td>\n",
       "      <td>16</td>\n",
       "      <td>30</td>\n",
       "      <td>31.099498</td>\n",
       "      <td>1</td>\n",
       "    </tr>\n",
       "    <tr>\n",
       "      <th>7</th>\n",
       "      <td>k403</td>\n",
       "      <td>Ramicane</td>\n",
       "      <td>Male</td>\n",
       "      <td>21</td>\n",
       "      <td>16</td>\n",
       "      <td>35</td>\n",
       "      <td>26.546993</td>\n",
       "      <td>1</td>\n",
       "    </tr>\n",
       "    <tr>\n",
       "      <th>8</th>\n",
       "      <td>k403</td>\n",
       "      <td>Ramicane</td>\n",
       "      <td>Male</td>\n",
       "      <td>21</td>\n",
       "      <td>16</td>\n",
       "      <td>40</td>\n",
       "      <td>24.365505</td>\n",
       "      <td>1</td>\n",
       "    </tr>\n",
       "    <tr>\n",
       "      <th>9</th>\n",
       "      <td>k403</td>\n",
       "      <td>Ramicane</td>\n",
       "      <td>Male</td>\n",
       "      <td>21</td>\n",
       "      <td>16</td>\n",
       "      <td>45</td>\n",
       "      <td>22.050126</td>\n",
       "      <td>1</td>\n",
       "    </tr>\n",
       "    <tr>\n",
       "      <th>10</th>\n",
       "      <td>s185</td>\n",
       "      <td>Capomulin</td>\n",
       "      <td>Female</td>\n",
       "      <td>3</td>\n",
       "      <td>17</td>\n",
       "      <td>0</td>\n",
       "      <td>45.000000</td>\n",
       "      <td>0</td>\n",
       "    </tr>\n",
       "    <tr>\n",
       "      <th>11</th>\n",
       "      <td>s185</td>\n",
       "      <td>Capomulin</td>\n",
       "      <td>Female</td>\n",
       "      <td>3</td>\n",
       "      <td>17</td>\n",
       "      <td>5</td>\n",
       "      <td>43.878496</td>\n",
       "      <td>0</td>\n",
       "    </tr>\n",
       "    <tr>\n",
       "      <th>12</th>\n",
       "      <td>s185</td>\n",
       "      <td>Capomulin</td>\n",
       "      <td>Female</td>\n",
       "      <td>3</td>\n",
       "      <td>17</td>\n",
       "      <td>10</td>\n",
       "      <td>37.614948</td>\n",
       "      <td>0</td>\n",
       "    </tr>\n",
       "    <tr>\n",
       "      <th>13</th>\n",
       "      <td>s185</td>\n",
       "      <td>Capomulin</td>\n",
       "      <td>Female</td>\n",
       "      <td>3</td>\n",
       "      <td>17</td>\n",
       "      <td>15</td>\n",
       "      <td>38.177232</td>\n",
       "      <td>0</td>\n",
       "    </tr>\n",
       "    <tr>\n",
       "      <th>14</th>\n",
       "      <td>s185</td>\n",
       "      <td>Capomulin</td>\n",
       "      <td>Female</td>\n",
       "      <td>3</td>\n",
       "      <td>17</td>\n",
       "      <td>20</td>\n",
       "      <td>36.866876</td>\n",
       "      <td>0</td>\n",
       "    </tr>\n",
       "  </tbody>\n",
       "</table>\n",
       "</div>"
      ],
      "text/plain": [
       "   Mouse ID Drug Regimen     Sex  Age_months  Weight (g)  Timepoint  \\\n",
       "0      k403     Ramicane    Male          21          16          0   \n",
       "1      k403     Ramicane    Male          21          16          5   \n",
       "2      k403     Ramicane    Male          21          16         10   \n",
       "3      k403     Ramicane    Male          21          16         15   \n",
       "4      k403     Ramicane    Male          21          16         20   \n",
       "5      k403     Ramicane    Male          21          16         25   \n",
       "6      k403     Ramicane    Male          21          16         30   \n",
       "7      k403     Ramicane    Male          21          16         35   \n",
       "8      k403     Ramicane    Male          21          16         40   \n",
       "9      k403     Ramicane    Male          21          16         45   \n",
       "10     s185    Capomulin  Female           3          17          0   \n",
       "11     s185    Capomulin  Female           3          17          5   \n",
       "12     s185    Capomulin  Female           3          17         10   \n",
       "13     s185    Capomulin  Female           3          17         15   \n",
       "14     s185    Capomulin  Female           3          17         20   \n",
       "\n",
       "    Tumor Volume (mm3)  Metastatic Sites  \n",
       "0            45.000000                 0  \n",
       "1            38.825898                 0  \n",
       "2            35.014271                 1  \n",
       "3            34.223992                 1  \n",
       "4            32.997729                 1  \n",
       "5            33.464577                 1  \n",
       "6            31.099498                 1  \n",
       "7            26.546993                 1  \n",
       "8            24.365505                 1  \n",
       "9            22.050126                 1  \n",
       "10           45.000000                 0  \n",
       "11           43.878496                 0  \n",
       "12           37.614948                 0  \n",
       "13           38.177232                 0  \n",
       "14           36.866876                 0  "
      ]
     },
     "execution_count": 4,
     "metadata": {},
     "output_type": "execute_result"
    }
   ],
   "source": [
    "# Combine the data into a single dataset\n",
    "combined_study_data = pd.merge(mouse_metadata, study_results, how =\"outer\", on =\"Mouse ID\")\n",
    "\n",
    "\n",
    "# Display the data table for preview\n",
    "combined_study_data.head(15)\n"
   ]
  },
  {
   "cell_type": "code",
   "execution_count": 5,
   "id": "b6e42b2c-fe4e-4474-9d93-7443c8b54ee2",
   "metadata": {},
   "outputs": [
    {
     "name": "stdout",
     "output_type": "stream",
     "text": [
      "There are 249 mice.\n"
     ]
    }
   ],
   "source": [
    "# Checking the number of mice.\n",
    "number_of_mice = combined_study_data[\"Mouse ID\"].nunique()\n",
    "print(\"There are\", number_of_mice, \"mice.\")"
   ]
  },
  {
   "cell_type": "code",
   "execution_count": 6,
   "id": "d4e41a46-915b-413b-8a09-27c4a057c523",
   "metadata": {},
   "outputs": [
    {
     "name": "stdout",
     "output_type": "stream",
     "text": [
      "['g989']\n"
     ]
    }
   ],
   "source": [
    "# Getting the duplicate mice by ID number that shows up for Mouse ID and Timepoint. \n",
    "duplicate_mouse_id = combined_study_data.loc[combined_study_data.duplicated([\"Mouse ID\", \"Timepoint\"]),\"Mouse ID\"].unique()\n",
    "print(duplicate_mouse_id)"
   ]
  },
  {
   "cell_type": "code",
   "execution_count": 7,
   "id": "f2e4edc3-6b78-4535-b18e-b95de9f90b79",
   "metadata": {},
   "outputs": [
    {
     "name": "stdout",
     "output_type": "stream",
     "text": [
      "    Mouse ID Drug Regimen     Sex  Age_months  Weight (g)  Timepoint  \\\n",
      "909     g989     Propriva  Female          21          26          0   \n",
      "\n",
      "     Tumor Volume (mm3)  Metastatic Sites  \n",
      "909                45.0                 0  \n"
     ]
    }
   ],
   "source": [
    "# Optional: Get all the data for the duplicate mouse ID. \n",
    "duplicate_mouse = combined_study_data[combined_study_data.duplicated()]\n",
    "print(duplicate_mouse)"
   ]
  },
  {
   "cell_type": "code",
   "execution_count": 8,
   "id": "79f0fd86-9657-4221-b716-3401a488295a",
   "metadata": {},
   "outputs": [
    {
     "name": "stdout",
     "output_type": "stream",
     "text": [
      "248\n"
     ]
    }
   ],
   "source": [
    "# Create a clean DataFrame by dropping the duplicate mouse by its ID.\n",
    "\n",
    "clean_df = combined_study_data[combined_study_data[\"Mouse ID\"].isin(duplicate_mouse_id) == False]\n",
    "\n",
    "\n",
    "\n",
    "#Verify duplicate drop by seeing difference in length of column\n",
    "\n",
    "\n",
    "print(clean_df[\"Mouse ID\"].nunique())\n",
    "\n",
    "# #Renaming cleaned DataFrame\n",
    "\n",
    "combined_study_data_cln = clean_df\n"
   ]
  },
  {
   "cell_type": "markdown",
   "id": "2362c07e-0aeb-4f36-b3ae-629c2731ce65",
   "metadata": {},
   "source": [
    "# Summary Statistics"
   ]
  },
  {
   "cell_type": "code",
   "execution_count": 45,
   "id": "afb6ce2e-bd07-4a29-8add-4a2209c52202",
   "metadata": {},
   "outputs": [
    {
     "name": "stdout",
     "output_type": "stream",
     "text": [
      "Drug Regimen\n",
      "Capomulin    40.675741\n",
      "Ceftamin     52.591172\n",
      "Infubinol    52.884795\n",
      "Ketapril     55.235638\n",
      "Naftisol     54.331565\n",
      "Placebo      54.033581\n",
      "Propriva     52.320930\n",
      "Ramicane     40.216745\n",
      "Stelasyn     54.233149\n",
      "Zoniferol    53.236507\n",
      "Name: Tumor Volume (mm3), dtype: float64\n",
      "Drug Regimen\n",
      "Capomulin    41.557809\n",
      "Ceftamin     51.776157\n",
      "Infubinol    51.820584\n",
      "Ketapril     53.698743\n",
      "Naftisol     52.509285\n",
      "Placebo      52.288934\n",
      "Propriva     50.446266\n",
      "Ramicane     40.673236\n",
      "Stelasyn     52.431737\n",
      "Zoniferol    51.818479\n",
      "Name: Tumor Volume (mm3), dtype: float64\n",
      "Drug Regimen\n",
      "Capomulin    24.947764\n",
      "Ceftamin     39.290177\n",
      "Infubinol    43.128684\n",
      "Ketapril     68.553577\n",
      "Naftisol     66.173479\n",
      "Placebo      61.168083\n",
      "Propriva     43.852013\n",
      "Ramicane     23.486704\n",
      "Stelasyn     59.450562\n",
      "Zoniferol    48.533355\n",
      "Name: Tumor Volume (mm3), dtype: float64\n",
      "Drug Regimen\n",
      "Capomulin    4.994774\n",
      "Ceftamin     6.268188\n",
      "Infubinol    6.567243\n",
      "Ketapril     8.279709\n",
      "Naftisol     8.134708\n",
      "Placebo      7.821003\n",
      "Propriva     6.622085\n",
      "Ramicane     4.846308\n",
      "Stelasyn     7.710419\n",
      "Zoniferol    6.966589\n",
      "Name: Tumor Volume (mm3), dtype: float64\n",
      "Drug Regimen\n",
      "Capomulin    0.329346\n",
      "Ceftamin     0.469821\n",
      "Infubinol    0.492236\n",
      "Ketapril     0.603860\n",
      "Naftisol     0.596466\n",
      "Placebo      0.581331\n",
      "Propriva     0.544332\n",
      "Ramicane     0.320955\n",
      "Stelasyn     0.573111\n",
      "Zoniferol    0.516398\n",
      "Name: Tumor Volume (mm3), dtype: float64\n"
     ]
    },
    {
     "data": {
      "text/html": [
       "<div>\n",
       "<style scoped>\n",
       "    .dataframe tbody tr th:only-of-type {\n",
       "        vertical-align: middle;\n",
       "    }\n",
       "\n",
       "    .dataframe tbody tr th {\n",
       "        vertical-align: top;\n",
       "    }\n",
       "\n",
       "    .dataframe thead th {\n",
       "        text-align: right;\n",
       "    }\n",
       "</style>\n",
       "<table border=\"1\" class=\"dataframe\">\n",
       "  <thead>\n",
       "    <tr style=\"text-align: right;\">\n",
       "      <th></th>\n",
       "      <th>Mean Tumor Volume</th>\n",
       "      <th>Median Tumor Volume</th>\n",
       "      <th>Median Tumor Variance</th>\n",
       "      <th>ST. DEV of Tumor Volume</th>\n",
       "      <th>SEM of Tumor Volume</th>\n",
       "    </tr>\n",
       "    <tr>\n",
       "      <th>Drug Regimen</th>\n",
       "      <th></th>\n",
       "      <th></th>\n",
       "      <th></th>\n",
       "      <th></th>\n",
       "      <th></th>\n",
       "    </tr>\n",
       "  </thead>\n",
       "  <tbody>\n",
       "    <tr>\n",
       "      <th>Capomulin</th>\n",
       "      <td>40.675741</td>\n",
       "      <td>41.557809</td>\n",
       "      <td>24.947764</td>\n",
       "      <td>4.994774</td>\n",
       "      <td>0.329346</td>\n",
       "    </tr>\n",
       "    <tr>\n",
       "      <th>Ceftamin</th>\n",
       "      <td>52.591172</td>\n",
       "      <td>51.776157</td>\n",
       "      <td>39.290177</td>\n",
       "      <td>6.268188</td>\n",
       "      <td>0.469821</td>\n",
       "    </tr>\n",
       "    <tr>\n",
       "      <th>Infubinol</th>\n",
       "      <td>52.884795</td>\n",
       "      <td>51.820584</td>\n",
       "      <td>43.128684</td>\n",
       "      <td>6.567243</td>\n",
       "      <td>0.492236</td>\n",
       "    </tr>\n",
       "    <tr>\n",
       "      <th>Ketapril</th>\n",
       "      <td>55.235638</td>\n",
       "      <td>53.698743</td>\n",
       "      <td>68.553577</td>\n",
       "      <td>8.279709</td>\n",
       "      <td>0.603860</td>\n",
       "    </tr>\n",
       "    <tr>\n",
       "      <th>Naftisol</th>\n",
       "      <td>54.331565</td>\n",
       "      <td>52.509285</td>\n",
       "      <td>66.173479</td>\n",
       "      <td>8.134708</td>\n",
       "      <td>0.596466</td>\n",
       "    </tr>\n",
       "    <tr>\n",
       "      <th>Placebo</th>\n",
       "      <td>54.033581</td>\n",
       "      <td>52.288934</td>\n",
       "      <td>61.168083</td>\n",
       "      <td>7.821003</td>\n",
       "      <td>0.581331</td>\n",
       "    </tr>\n",
       "    <tr>\n",
       "      <th>Propriva</th>\n",
       "      <td>52.320930</td>\n",
       "      <td>50.446266</td>\n",
       "      <td>43.852013</td>\n",
       "      <td>6.622085</td>\n",
       "      <td>0.544332</td>\n",
       "    </tr>\n",
       "    <tr>\n",
       "      <th>Ramicane</th>\n",
       "      <td>40.216745</td>\n",
       "      <td>40.673236</td>\n",
       "      <td>23.486704</td>\n",
       "      <td>4.846308</td>\n",
       "      <td>0.320955</td>\n",
       "    </tr>\n",
       "    <tr>\n",
       "      <th>Stelasyn</th>\n",
       "      <td>54.233149</td>\n",
       "      <td>52.431737</td>\n",
       "      <td>59.450562</td>\n",
       "      <td>7.710419</td>\n",
       "      <td>0.573111</td>\n",
       "    </tr>\n",
       "    <tr>\n",
       "      <th>Zoniferol</th>\n",
       "      <td>53.236507</td>\n",
       "      <td>51.818479</td>\n",
       "      <td>48.533355</td>\n",
       "      <td>6.966589</td>\n",
       "      <td>0.516398</td>\n",
       "    </tr>\n",
       "  </tbody>\n",
       "</table>\n",
       "</div>"
      ],
      "text/plain": [
       "              Mean Tumor Volume  Median Tumor Volume  Median Tumor Variance  \\\n",
       "Drug Regimen                                                                  \n",
       "Capomulin             40.675741            41.557809              24.947764   \n",
       "Ceftamin              52.591172            51.776157              39.290177   \n",
       "Infubinol             52.884795            51.820584              43.128684   \n",
       "Ketapril              55.235638            53.698743              68.553577   \n",
       "Naftisol              54.331565            52.509285              66.173479   \n",
       "Placebo               54.033581            52.288934              61.168083   \n",
       "Propriva              52.320930            50.446266              43.852013   \n",
       "Ramicane              40.216745            40.673236              23.486704   \n",
       "Stelasyn              54.233149            52.431737              59.450562   \n",
       "Zoniferol             53.236507            51.818479              48.533355   \n",
       "\n",
       "              ST. DEV of Tumor Volume  SEM of Tumor Volume  \n",
       "Drug Regimen                                                \n",
       "Capomulin                    4.994774             0.329346  \n",
       "Ceftamin                     6.268188             0.469821  \n",
       "Infubinol                    6.567243             0.492236  \n",
       "Ketapril                     8.279709             0.603860  \n",
       "Naftisol                     8.134708             0.596466  \n",
       "Placebo                      7.821003             0.581331  \n",
       "Propriva                     6.622085             0.544332  \n",
       "Ramicane                     4.846308             0.320955  \n",
       "Stelasyn                     7.710419             0.573111  \n",
       "Zoniferol                    6.966589             0.516398  "
      ]
     },
     "execution_count": 45,
     "metadata": {},
     "output_type": "execute_result"
    }
   ],
   "source": [
    "# # Generate a summary statistics table of mean, median, variance, standard deviation, and SEM of the tumor volume for each regimen\n",
    "\n",
    "\n",
    "summary_mean = combined_study_data_cln.groupby(\"Drug Regimen\").mean()[\"Tumor Volume (mm3)\"]\n",
    "print(summary_mean)\n",
    "\n",
    "summary_median = combined_study_data_cln.groupby(\"Drug Regimen\").median()[\"Tumor Volume (mm3)\"]\n",
    "print(summary_median)\n",
    "\n",
    "summary_variance = combined_study_data_cln.groupby(\"Drug Regimen\").var()[\"Tumor Volume (mm3)\"]\n",
    "print(summary_variance)\n",
    "\n",
    "summary_stdev = combined_study_data_cln.groupby(\"Drug Regimen\").std()[\"Tumor Volume (mm3)\"]\n",
    "print(summary_stdev)\n",
    "\n",
    "summary_SEM = combined_study_data_cln.groupby(\"Drug Regimen\").sem()[\"Tumor Volume (mm3)\"]\n",
    "print(summary_SEM)\n",
    "\n",
    "\n",
    "summary_statistics_df = pd.DataFrame ({\"Mean Tumor Volume\" : summary_mean, \"Median Tumor Volume\" : summary_median, \"Median Tumor Variance\" :  summary_variance, \"ST. DEV of Tumor Volume\" :  summary_stdev, \"SEM of Tumor Volume\" :  summary_SEM})\n",
    "summary_statistics_df.head(10)"
   ]
  },
  {
   "cell_type": "code",
   "execution_count": 10,
   "id": "e7665a9f-fdf7-4427-8c8f-2ddcc1ea8002",
   "metadata": {},
   "outputs": [],
   "source": [
    " # Using the aggregation method, produce the same summary statistics in a single line.\n",
    "summary_stats_aggregated_df = combined_study_data_cln\n"
   ]
  },
  {
   "cell_type": "markdown",
   "id": "2434051a-c057-4357-a219-a65b88a56f48",
   "metadata": {},
   "source": [
    "# Pie and Bar Charts"
   ]
  },
  {
   "cell_type": "code",
   "execution_count": 11,
   "id": "9dd1f850",
   "metadata": {
    "scrolled": true
   },
   "outputs": [
    {
     "name": "stdout",
     "output_type": "stream",
     "text": [
      "Capomulin    230\n",
      "Ramicane     228\n",
      "Ketapril     188\n",
      "Naftisol     186\n",
      "Zoniferol    182\n",
      "Placebo      181\n",
      "Stelasyn     181\n",
      "Infubinol    178\n",
      "Ceftamin     178\n",
      "Propriva     148\n",
      "Name: Drug Regimen, dtype: int64\n"
     ]
    }
   ],
   "source": [
    "value_ct = combined_study_data_cln[\"Drug Regimen\"].value_counts()\n",
    "print(value_ct)\n"
   ]
  },
  {
   "cell_type": "code",
   "execution_count": 12,
   "id": "958cb0b4-604d-41d9-929e-d9d5307d8a8a",
   "metadata": {},
   "outputs": [
    {
     "data": {
      "image/png": "[encoded data removed]",
      "text/plain": [
       "<Figure size 504x360 with 1 Axes>"
      ]
     },
     "metadata": {
      "needs_background": "light"
     },
     "output_type": "display_data"
    }
   ],
   "source": [
    "# Generate a bar plot showing the total number of timepoints for all mice tested for each drug regimen using Pandas.\n",
    "\n",
    "# # Use DataFrame.plot() in order to create a bar chart of the data\n",
    "value_ct.plot(kind=\"bar\",figsize=(7,5), color = \"#2EBF41\", align = \"center\")\n",
    "\n",
    "# # # Set a title for the chart\n",
    "plt.title(\"Total Mice Tested per Drug Regimen\")\n",
    "plt.xlabel(\"Drug Regimen\")\n",
    "plt.ylabel(\"Total Mice Tested\")\n",
    "\n",
    "# #Set x and y limits\n",
    "plt.ylim(0, 250)\n",
    "\n",
    "plt.show()\n",
    "\n",
    "    \n"
   ]
  },
  {
   "cell_type": "code",
   "execution_count": 13,
   "id": "cca4922d-4f05-4139-b7df-ec9d82bf9a9d",
   "metadata": {},
   "outputs": [
    {
     "data": {
      "image/png": "[encoded data removed]",
      "text/plain": [
       "<Figure size 720x288 with 1 Axes>"
      ]
     },
     "metadata": {
      "needs_background": "light"
     },
     "output_type": "display_data"
    }
   ],
   "source": [
    "# Generate a bar plot showing the total number of timepoints for all mice tested for each drug regimen using pyplot.\n",
    "\n",
    "# Set x axis and tick locations\n",
    "x_axis = value_ct.index\n",
    "tick_locations = [value for value in x_axis]\n",
    "\n",
    "# # Create a list indicating where to write x labels and set figure size to adjust for space\n",
    "plt.figure(figsize=(10,4))\n",
    "plt.bar(x_axis, value_ct, color=\"#2E76BF\", alpha=0.5, align=\"center\")\n",
    "\n",
    "# # Set x and y limits\n",
    "plt.ylim(0, 250)\n",
    "\n",
    "# # Set a Title and labels\n",
    "plt.title(\"Total Mice Tested per Drug Regimen\")\n",
    "plt.xlabel(\"Drug Regimen\")\n",
    "plt.ylabel(\"Total Mice Tested\")\n",
    "\n",
    "plt.show()\n"
   ]
  },
  {
   "cell_type": "code",
   "execution_count": 14,
   "id": "e53c4e2b-765f-4da4-9929-b086a0a437f3",
   "metadata": {},
   "outputs": [
    {
     "name": "stdout",
     "output_type": "stream",
     "text": [
      "50.403225806451616\n",
      "49.596774193548384\n"
     ]
    },
    {
     "data": {
      "image/png": "[encoded data removed]",
      "text/plain": [
       "<Figure size 432x288 with 1 Axes>"
      ]
     },
     "metadata": {},
     "output_type": "display_data"
    }
   ],
   "source": [
    "# Generate a pie plot showing the distribution of female versus male mice using pyplot\n",
    "\n",
    "#Total mice calculated above is 248\n",
    "#Find percent of each\n",
    "\n",
    "#Don't want duplicate entries\n",
    "timepoint_0 = combined_study_data_cln.loc[(combined_study_data_cln[\"Timepoint\"]== 0)]\n",
    "timepoint_0.head()\n",
    "\n",
    "females_list = timepoint_0.loc[(timepoint_0[\"Sex\"] == \"Female\")] \n",
    "females_list = len(females_list)\n",
    "\n",
    "#print(f\"This is {len(females_list)}\")\n",
    "\n",
    "\n",
    "males_list = timepoint_0.loc[(timepoint_0[\"Sex\"] == \"Male\")]\n",
    "males_list = len(males_list)\n",
    "\n",
    "#Calculating Percents\n",
    "percent_males = (males_list/248)*100\n",
    "print(percent_males)\n",
    "\n",
    "percent_females = (females_list/248)*100\n",
    "print(percent_females)\n",
    "\n",
    "\n",
    "#autopct= \"%1.1f%%\"\n",
    "#matplotlib.pyplot.pie(x, explode=None, labels=None, colors=None, autopct=None, pctdistance=0.6, shadow=False, labeldistance=1.1, startangle=0, radius=1, counterclock=True, \n",
    "    #wedgeprops=None, textprops=None, center=(0, 0), frame=False, rotatelabels=False, *, normalize=True, data=None)[source]4\n",
    "    \n",
    "    # Pie chart, where the slices will be ordered and plotted counter-clockwise:\n",
    "sexes = [\"Female\", \"Male\"]\n",
    "sizes = [49.6, 50.4]\n",
    "\n",
    "fig1, ax1 = plt.subplots()\n",
    "ax1.pie(sizes, labels=sexes, autopct='%1.1f%%', startangle=90)\n",
    "ax1.axis('equal')  # Equal aspect ratio ensures that pie is drawn as a circle.\n",
    "plt.title(\"Sex Distribution of Experimental Mice\")\n",
    "\n",
    "plt.show()"
   ]
  },
  {
   "cell_type": "code",
   "execution_count": 15,
   "id": "0d3125ba-1e80-40f9-a129-665088aaf711",
   "metadata": {
    "scrolled": true
   },
   "outputs": [
    {
     "data": {
      "text/plain": [
       "<AxesSubplot:ylabel='Sex'>"
      ]
     },
     "execution_count": 15,
     "metadata": {},
     "output_type": "execute_result"
    },
    {
     "data": {
      "image/png": "[encoded data removed]",
      "text/plain": [
       "<Figure size 432x288 with 1 Axes>"
      ]
     },
     "metadata": {},
     "output_type": "display_data"
    }
   ],
   "source": [
    "# Generate a pie plot showing the distribution of female versus male mice using Pandas\n",
    "\n",
    "new = timepoint_0[\"Sex\"].value_counts()\n",
    "\n",
    "new.plot(kind='pie', autopct='%0.1f%%')\n"
   ]
  },
  {
   "cell_type": "markdown",
   "id": "eff62b2f-4637-4a6c-97d4-f0517315f815",
   "metadata": {},
   "source": [
    "# Quartiles, Outliers, and Box Plots"
   ]
  },
  {
   "cell_type": "code",
   "execution_count": 16,
   "id": "8b663944-905f-49a3-a7db-3c3e6ae601a0",
   "metadata": {},
   "outputs": [
    {
     "name": "stdout",
     "output_type": "stream",
     "text": [
      "0     248\n",
      "5     236\n",
      "10    221\n",
      "15    205\n",
      "20    193\n",
      "25    182\n",
      "30    170\n",
      "35    153\n",
      "40    142\n",
      "45    130\n",
      "Name: Timepoint, dtype: int64\n"
     ]
    },
    {
     "data": {
      "text/html": [
       "<div>\n",
       "<style scoped>\n",
       "    .dataframe tbody tr th:only-of-type {\n",
       "        vertical-align: middle;\n",
       "    }\n",
       "\n",
       "    .dataframe tbody tr th {\n",
       "        vertical-align: top;\n",
       "    }\n",
       "\n",
       "    .dataframe thead th {\n",
       "        text-align: right;\n",
       "    }\n",
       "</style>\n",
       "<table border=\"1\" class=\"dataframe\">\n",
       "  <thead>\n",
       "    <tr style=\"text-align: right;\">\n",
       "      <th></th>\n",
       "      <th>Mouse ID</th>\n",
       "      <th>Drug Regimen</th>\n",
       "      <th>Sex</th>\n",
       "      <th>Age_months</th>\n",
       "      <th>Weight (g)</th>\n",
       "      <th>Timepoint</th>\n",
       "      <th>Tumor Volume (mm3)</th>\n",
       "      <th>Metastatic Sites</th>\n",
       "    </tr>\n",
       "  </thead>\n",
       "  <tbody>\n",
       "    <tr>\n",
       "      <th>0</th>\n",
       "      <td>a203</td>\n",
       "      <td>Infubinol</td>\n",
       "      <td>Female</td>\n",
       "      <td>20</td>\n",
       "      <td>23</td>\n",
       "      <td>45</td>\n",
       "      <td>67.973419</td>\n",
       "      <td>2</td>\n",
       "    </tr>\n",
       "    <tr>\n",
       "      <th>1</th>\n",
       "      <td>a251</td>\n",
       "      <td>Infubinol</td>\n",
       "      <td>Female</td>\n",
       "      <td>21</td>\n",
       "      <td>25</td>\n",
       "      <td>45</td>\n",
       "      <td>65.525743</td>\n",
       "      <td>1</td>\n",
       "    </tr>\n",
       "    <tr>\n",
       "      <th>2</th>\n",
       "      <td>a262</td>\n",
       "      <td>Placebo</td>\n",
       "      <td>Female</td>\n",
       "      <td>17</td>\n",
       "      <td>29</td>\n",
       "      <td>45</td>\n",
       "      <td>70.717621</td>\n",
       "      <td>4</td>\n",
       "    </tr>\n",
       "    <tr>\n",
       "      <th>3</th>\n",
       "      <td>a275</td>\n",
       "      <td>Ceftamin</td>\n",
       "      <td>Female</td>\n",
       "      <td>20</td>\n",
       "      <td>28</td>\n",
       "      <td>45</td>\n",
       "      <td>62.999356</td>\n",
       "      <td>3</td>\n",
       "    </tr>\n",
       "    <tr>\n",
       "      <th>4</th>\n",
       "      <td>a366</td>\n",
       "      <td>Stelasyn</td>\n",
       "      <td>Female</td>\n",
       "      <td>16</td>\n",
       "      <td>29</td>\n",
       "      <td>30</td>\n",
       "      <td>63.440686</td>\n",
       "      <td>1</td>\n",
       "    </tr>\n",
       "  </tbody>\n",
       "</table>\n",
       "</div>"
      ],
      "text/plain": [
       "  Mouse ID Drug Regimen     Sex  Age_months  Weight (g)  Timepoint  \\\n",
       "0     a203    Infubinol  Female          20          23         45   \n",
       "1     a251    Infubinol  Female          21          25         45   \n",
       "2     a262      Placebo  Female          17          29         45   \n",
       "3     a275     Ceftamin  Female          20          28         45   \n",
       "4     a366     Stelasyn  Female          16          29         30   \n",
       "\n",
       "   Tumor Volume (mm3)  Metastatic Sites  \n",
       "0           67.973419                 2  \n",
       "1           65.525743                 1  \n",
       "2           70.717621                 4  \n",
       "3           62.999356                 3  \n",
       "4           63.440686                 1  "
      ]
     },
     "execution_count": 16,
     "metadata": {},
     "output_type": "execute_result"
    }
   ],
   "source": [
    "# Calculate the final tumor volume of each mouse across four of the treatment regimens:  \n",
    "# Capomulin, Ramicane, Infubinol, and Ceftamin\n",
    "\n",
    "timepoints = combined_study_data_cln[\"Timepoint\"].unique()\n",
    "timepoints\n",
    "#45 is final time point, but not all mice make it to the end\n",
    "# timepoint_45 = combined_study_data_cln.loc[(combined_study_data_cln[\"Timepoint\"]== 45)]\n",
    "# timepoint_45.head()\n",
    "\n",
    "values_timepoints = combined_study_data_cln[\"Timepoint\"].value_counts()\n",
    "print(values_timepoints)\n",
    "\n",
    "# Start by getting the last (greatest) timepoint for each mouse\n",
    "\n",
    "final_timepoint_df = combined_study_data_cln.groupby(\"Mouse ID\").max()[\"Timepoint\"]\n",
    "final_timepoint_df.head()\n",
    "\n",
    "# Merge this group df with the original DataFrame to get the tumor volume at the last timepoint\n",
    "final_timepoints_merge = pd.merge(combined_study_data_cln, final_timepoint_df, on = [\"Mouse ID\", \"Timepoint\"], how = \"right\")\n",
    "final_timepoints_merge.head()\n",
    "\n"
   ]
  },
  {
   "cell_type": "code",
   "execution_count": 17,
   "id": "465f3c27-017d-4f53-91b2-9a1d01aaa032",
   "metadata": {},
   "outputs": [
    {
     "name": "stdout",
     "output_type": "stream",
     "text": [
      "['Ramicane' 'Capomulin' 'Infubinol' 'Placebo' 'Ceftamin' 'Stelasyn'\n",
      " 'Zoniferol' 'Ketapril' 'Propriva' 'Naftisol']\n"
     ]
    }
   ],
   "source": [
    "# Put treatments into a list for for loop (and later for plot labels)\n",
    "treatment_list = combined_study_data_cln[\"Drug Regimen\"].unique()\n",
    "print(treatment_list)\n",
    "\n",
    "# Create empty list to fill with tumor vol data (for plotting)\n",
    "tumor_vol_data = []\n",
    "\n",
    "#for loop?\n",
    "\n",
    "\n",
    "    "
   ]
  },
  {
   "cell_type": "code",
   "execution_count": 27,
   "id": "53ea9512",
   "metadata": {},
   "outputs": [
    {
     "name": "stdout",
     "output_type": "stream",
     "text": [
      "Ramicane : Values below 17.912664470000003 could be outliers.\n",
      "Ramicane :Values above 54.30681135 could be outliers.\n",
      "Capomulin : Values below 20.70456164999999 could be outliers.\n",
      "Capomulin :Values above 51.83201549 could be outliers.\n",
      "Infubinol : Values below 36.83290494999999 could be outliers.\n",
      "Infubinol :Values above 82.74144559000001 could be outliers.\n",
      "Placebo : Values below 30.15582196999999 could be outliers.\n",
      "Placebo :Values above 90.92136789000001 could be outliers.\n",
      "Ceftamin : Values below 25.355449580000002 could be outliers.\n",
      "Ceftamin :Values above 87.66645829999999 could be outliers.\n",
      "Stelasyn : Values below 27.53557243999998 could be outliers.\n",
      "Stelasyn :Values above 94.04496758000002 could be outliers.\n",
      "Zoniferol : Values below 24.77952216500001 could be outliers.\n",
      "Zoniferol :Values above 92.00293628499998 could be outliers.\n",
      "Ketapril : Values below 36.99186244000001 could be outliers.\n",
      "Ketapril :Values above 89.60048379999998 could be outliers.\n",
      "Propriva : Values below 28.76529576625001 could be outliers.\n",
      "Propriva :Values above 83.04381145624998 could be outliers.\n",
      "Naftisol : Values below 25.85334408499999 could be outliers.\n",
      "Naftisol :Values above 95.78978676500002 could be outliers.\n"
     ]
    }
   ],
   "source": [
    "# Put treatments into a list for for loop (and later for plot labels)\n",
    "\n",
    "# Create empty list to fill with tumor vol data (for plotting)\n",
    "tumor_vol = []\n",
    "# Calculate the IQR and quantitatively determine if there are any potential outliers.\n",
    "for treatment in treatment_list:\n",
    "    # Locate the rows which contain mice on each drug and get the tumor volumes\n",
    "    final_tumor = final_timepoints_merge.loc[final_timepoints_merge[\"Drug Regimen\"]==treatment, \"Tumor Volume (mm3)\"]\n",
    "    # add subset\n",
    "    tumor_vol.append(final_tumor)\n",
    "    # Determine outliers using upper and lower bounds\n",
    "    quartiles = final_tumor.quantile([.25,.5,.75])\n",
    "    lowerq = quartiles[.25]\n",
    "    upperq = quartiles[.75]\n",
    "    iqr = upperq - lowerq\n",
    "    upper_bound = upperq + (1.5*iqr)\n",
    "    lower_bound = lowerq - (1.5*iqr)\n",
    "    outliers = final_tumor.loc[(final_tumor < lower_bound) | (final_tumor > upper_bound)]\n",
    "    print(f\"{treatment} : Values below {lower_bound} could be outliers.\")\n",
    "    print(f\"{treatment} :Values above {upper_bound} could be outliers.\")"
   ]
  },
  {
   "cell_type": "code",
   "execution_count": 44,
   "id": "5dbf71d8-1c5e-4a7b-aae4-8b75b1bca7dc",
   "metadata": {},
   "outputs": [
    {
     "data": {
      "image/png": "[encoded data removed]",
      "text/plain": [
       "<Figure size 432x288 with 1 Axes>"
      ]
     },
     "metadata": {
      "needs_background": "light"
     },
     "output_type": "display_data"
    }
   ],
   "source": [
    "# Generate a box plot that shows the distribution of the tumor volume for each treatment group.\n",
    "\n",
    " \n",
    "# box_plot_data=[value1,value2,value3,value4]\n",
    "plt.boxplot(tumor_vol, labels = treatment_list)\n",
    "plt.xticks(rotation=90)\n",
    "plt.xlabel('Treatment', fontsize=12)\n",
    "plt.ylabel('Final Tumor Volume mm3', fontsize=12)\n",
    "plt.title(\"Final Tumor Size of Mice per Treatment\")\n",
    "plt.show()"
   ]
  },
  {
   "cell_type": "markdown",
   "id": "304b95a9-a8f9-482a-926f-83b0d5949234",
   "metadata": {},
   "source": [
    "# Line and Scatter Plots"
   ]
  },
  {
   "cell_type": "code",
   "execution_count": 19,
   "id": "2d3b391f-2c47-4cdd-812e-4200026bee63",
   "metadata": {},
   "outputs": [
    {
     "data": {
      "image/png": "[encoded data removed]",
      "text/plain": [
       "<Figure size 432x288 with 1 Axes>"
      ]
     },
     "metadata": {
      "needs_background": "light"
     },
     "output_type": "display_data"
    }
   ],
   "source": [
    "# Generate a line plot of tumor volume vs. time point for a mouse treated with Capomulin\n",
    "\n",
    "#Select a random mouse treated with Capomulin\n",
    "capomulin_mice = combined_study_data_cln.loc[(combined_study_data_cln[\"Drug Regimen\"] == \"Capomulin\")]\n",
    "capomulin_mice\n",
    "\n",
    "#Selecting the first one: Mouse ID s185\n",
    "\n",
    "mouse_s185 = capomulin_mice.loc[(capomulin_mice[\"Mouse ID\"] == \"s185\")]\n",
    "mouse_s185\n",
    "\n",
    "#Setting x and y\n",
    "tumor_volume = mouse_s185[\"Tumor Volume (mm3)\"]\n",
    "time_point = mouse_s185[\"Timepoint\"]\n",
    "\n",
    "\n",
    "#Generating line plot\n",
    "\n",
    "plt.plot(time_point, tumor_volume, color=\"#333f48\" )\n",
    "\n",
    "# # Set a Title and labels\n",
    "plt.title(\"Mouse s185\")\n",
    "plt.xlabel(\"Tumor Volume, mm3\")\n",
    "plt.ylabel(\"Time Point\")\n",
    "#getting error here... investigate**************\n",
    "\n",
    "# Show the chart\n",
    "plt.show()"
   ]
  },
  {
   "cell_type": "code",
   "execution_count": 20,
   "id": "06a9f94a-8c6f-404d-bd09-62e84e9f791b",
   "metadata": {},
   "outputs": [
    {
     "data": {
      "image/png": "[encoded data removed]",
      "text/plain": [
       "<Figure size 432x288 with 1 Axes>"
      ]
     },
     "metadata": {
      "needs_background": "light"
     },
     "output_type": "display_data"
    }
   ],
   "source": [
    "# Generate a scatter plot of average tumor volume vs. mouse weight for the Capomulin regimen\n",
    "#Weight(g), Tumor Volume (mm3)\n",
    "\n",
    "capomulin_mice_av = capomulin_mice.groupby(\"Weight (g)\").mean()[\"Tumor Volume (mm3)\"]\n",
    "capomulin_mice_av\n",
    "\n",
    "# Generate Plot\n",
    "plt.scatter(capomulin_mice_av.index, capomulin_mice_av, linewidths = 1)\n",
    "plt.xlabel('Mouse Weight g')\n",
    "plt.ylabel('Average Tumor Volume mm3')\n",
    "plt.title ('Average Tumor Volume vs Mouse Weight for Capomulin Regimen')\n",
    "plt.show()\n",
    "\n",
    "#average_capomulin_tumor_vol = capomulin_mice[\"Tumor Volume, (mm3)\"]\n"
   ]
  },
  {
   "cell_type": "markdown",
   "id": "c90f2ee7-a13d-4473-b976-843e3d240c84",
   "metadata": {},
   "source": [
    "# Correlation and Regression"
   ]
  },
  {
   "cell_type": "code",
   "execution_count": 21,
   "id": "7926e685-5c8e-43e0-beb2-e0415e54c05c",
   "metadata": {},
   "outputs": [],
   "source": [
    "# Calculate the correlation coefficient and linear regression model \n",
    "# for mouse weight and average tumor volume for the Capomulin regimen\n",
    "\n",
    "#Using capomulin_mice_av"
   ]
  },
  {
   "cell_type": "code",
   "execution_count": 22,
   "id": "aae745fe-01e1-4dca-acbe-41e72d757b86",
   "metadata": {},
   "outputs": [
    {
     "name": "stdout",
     "output_type": "stream",
     "text": [
      "The correlation coefficient between mouse weight and average tumor volume for the Capomulin regimen is 0.95\n"
     ]
    }
   ],
   "source": [
    "#Calculating correlation coefficient\n",
    "cap_mouse_weight = capomulin_mice_av.index\n",
    "cap_average_tumor_vol = capomulin_mice_av\n",
    "                                    \n",
    "# Calculate the correlation coefficient between  mouse weight and average tumor volume for the Capomulin regimen\n",
    "print(f\"The correlation coefficient between mouse weight and average tumor volume for the Capomulin regimen is {round(st.pearsonr(cap_mouse_weight, cap_average_tumor_vol)[0],2)}\")                  \n",
    "\n",
    "#I got an answer different than that of the example... 0.95 instead of 0.84 hmmm, well my scatter plot looks different as well\n"
   ]
  },
  {
   "cell_type": "code",
   "execution_count": 23,
   "id": "c6808d4e-b7c8-4b45-b482-09cb13f1b47a",
   "metadata": {},
   "outputs": [],
   "source": [
    "#Linear regression model"
   ]
  },
  {
   "cell_type": "code",
   "execution_count": 24,
   "id": "8e19506b-2acd-45a6-a4f9-336dd7b461f3",
   "metadata": {},
   "outputs": [
    {
     "name": "stdout",
     "output_type": "stream",
     "text": [
      "The r-squared is: 0.9034966277438602\n"
     ]
    },
    {
     "data": {
      "image/png": "[encoded data removed]",
      "text/plain": [
       "<Figure size 432x288 with 1 Axes>"
      ]
     },
     "metadata": {
      "needs_background": "light"
     },
     "output_type": "display_data"
    }
   ],
   "source": [
    "# Plot the different factors in a scatter plot\n",
    "x_values = cap_mouse_weight\n",
    "y_values = cap_average_tumor_vol\n",
    "\n",
    "(slope, intercept, rvalue, pvalue, stderr) = linregress(x_values, y_values)\n",
    "regress_values = x_values * slope + intercept\n",
    "line_eq = \"y = \" + str(round(slope,2)) + \"x + \" + str(round(intercept,2))\n",
    "plt.scatter(x_values,y_values)\n",
    "plt.plot(x_values,regress_values,\"r-\")\n",
    "plt.annotate(line_eq,(0,50),fontsize=15,color=\"red\")\n",
    "plt.xlabel('Mouse Weight')\n",
    "plt.ylabel('Average Tumor Volume')\n",
    "print(f\"The r-squared is: {rvalue**2}\")\n",
    "plt.show()"
   ]
  },
  {
   "cell_type": "code",
   "execution_count": null,
   "id": "b5df980c-8772-43c4-8b21-0cc054f4bcf9",
   "metadata": {},
   "outputs": [],
   "source": []
  },
  {
   "cell_type": "code",
   "execution_count": null,
   "id": "f0ec0368-89f9-4b9b-9822-280829be4e63",
   "metadata": {},
   "outputs": [],
   "source": []
  },
  {
   "cell_type": "code",
   "execution_count": null,
   "id": "3734d498-dd3b-4b26-a3f8-34601475a3c4",
   "metadata": {},
   "outputs": [],
   "source": []
  }
 ],
 "metadata": {
  "kernelspec": {
   "display_name": "Python 3 (ipykernel)",
   "language": "python",
   "name": "python3"
  },
  "language_info": {
   "codemirror_mode": {
    "name": "ipython",
    "version": 3
   },
   "file_extension": ".py",
   "mimetype": "text/x-python",
   "name": "python",
   "nbconvert_exporter": "python",
   "pygments_lexer": "ipython3",
   "version": "3.9.12"
  }
 },
 "nbformat": 4,
 "nbformat_minor": 5
}
